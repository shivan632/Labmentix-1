{
 "cells": [
  {
   "cell_type": "markdown",
   "id": "1367fb0c",
   "metadata": {},
   "source": [
    "# **Project Name - Yes Bank**"
   ]
  },
  {
   "cell_type": "markdown",
   "id": "a0411c51",
   "metadata": {},
   "source": [
    "##### **Project Type - Regression**\n",
    "##### **Contribution - Individual**\n",
    "##### **Name - Shivan Mishra**"
   ]
  },
  {
   "cell_type": "markdown",
   "id": "bc40577a",
   "metadata": {},
   "source": [
    "# **Project Summary :--**\n",
    "*In this project, we aim to predict the monthly closing stock price of Yes Bank using regression models based on historical stock data. The dataset contains monthly values including the opening, highest, lowest, and closing prices of the stock.*\n",
    "\n",
    "*To perform this task, we implemented and compared three different regression models:*\n",
    "\n",
    "    *1. Linear Regression*\n",
    "\n",
    "    *2. Lasso Regression*\n",
    "    \n",
    "    *3. K-Nearest Neighbors (KNN) Regressor*\n",
    "    \n",
    "*We applied both normalization and standardization techniques during the preprocessing phase to ensure optimal model performance. Data was split into training and testing sets using train_test_split.*\n",
    "\n",
    "### *Library's are:--*\n",
    "\n",
    "***1. Numpy***\n",
    "\n",
    "***2. Pandas***\n",
    "\n",
    "***3. Matplotlib***\n",
    "\n",
    "***4. Seaborn***\n",
    "\n",
    "***5. Sklearn***\n",
    "\n",
    "#### *Evaluation Metrics Used:- Mean Absolute Error, Mean Square Error and R2*\n"
   ]
  },
  {
   "cell_type": "markdown",
   "id": "a8cd1ca2",
   "metadata": {},
   "source": [
    "# **GitHub Link -** <a href=\"https://github.com/shivan632/Labmentix-1.git\"> (https://github.com/shivan632/Labmentix-1.git)</a>"
   ]
  },
  {
   "cell_type": "markdown",
   "id": "bc5061df",
   "metadata": {},
   "source": [
    "# **Problem Statement :--**\n",
    "\n",
    "**The main objective is to predict the Stock's Closing price of the Month.**"
   ]
  },
  {
   "cell_type": "markdown",
   "id": "8833b5c7",
   "metadata": {},
   "source": [
    "****"
   ]
  },
  {
   "cell_type": "markdown",
   "id": "3e69b472",
   "metadata": {},
   "source": [
    "# ***Let's Begin !***"
   ]
  },
  {
   "cell_type": "markdown",
   "id": "2cc146ed",
   "metadata": {},
   "source": [
    "## ***1. Know Your Data***"
   ]
  },
  {
   "cell_type": "markdown",
   "id": "0a62ddb9",
   "metadata": {},
   "source": [
    "### **Import Libraries**"
   ]
  },
  {
   "cell_type": "code",
   "execution_count": null,
   "id": "41d67e10",
   "metadata": {},
   "outputs": [],
   "source": [
    "import pandas as pd \n",
    "import matplotlib.pyplot as plt\n",
    "import seaborn as sns       \n",
    "from sklearn.linear_model import LinearRegression\n",
    "from sklearn.neighbors import KNeighborsRegressor\n",
    "from sklearn.linear_model import Lasso\n",
    "from sklearn.model_selection import train_test_split as tts\n",
    "from sklearn.metrics import mean_absolute_error as mae\n",
    "from sklearn.metrics import mean_squared_error as mse\n",
    "from sklearn.metrics import r2_score as r2\n"
   ]
  },
  {
   "cell_type": "markdown",
   "id": "3b089004",
   "metadata": {},
   "source": [
    "### **Loading Dataset**"
   ]
  },
  {
   "cell_type": "code",
   "execution_count": null,
   "id": "f18f5610",
   "metadata": {},
   "outputs": [],
   "source": [
    "# Step 1: Load the dataset\n",
    "df = pd.read_csv(\"data_YesBank_StockPrices.csv\")\n",
    "df"
   ]
  },
  {
   "cell_type": "markdown",
   "id": "09dd6b40",
   "metadata": {},
   "source": [
    "### **Dataset First View**"
   ]
  },
  {
   "cell_type": "code",
   "execution_count": null,
   "id": "b890d796",
   "metadata": {},
   "outputs": [],
   "source": [
    "df.head(6)  # Display the first few rows of the dataset"
   ]
  },
  {
   "cell_type": "markdown",
   "id": "648300ef",
   "metadata": {},
   "source": [
    "### **Dataset Rows & Columns count**"
   ]
  },
  {
   "cell_type": "code",
   "execution_count": null,
   "id": "f66dc760",
   "metadata": {},
   "outputs": [],
   "source": [
    "#Dataset Rows & Columns count\n",
    "print(\"Number of Rows:\", df.shape[0])\n",
    "print(\"Number of Columns:\", df.shape[1])\n",
    "print(\"Column Names:\", df.columns.tolist())"
   ]
  },
  {
   "cell_type": "markdown",
   "id": "07982bd9",
   "metadata": {},
   "source": [
    "### **Dataset Information**"
   ]
  },
  {
   "cell_type": "code",
   "execution_count": null,
   "id": "2fc8d18d",
   "metadata": {},
   "outputs": [],
   "source": [
    "# Dataset Info\n",
    "df.info()"
   ]
  },
  {
   "cell_type": "markdown",
   "id": "a4dcb805",
   "metadata": {},
   "source": [
    "### **Checking Duplicate Values / Missing/Null Values**"
   ]
  },
  {
   "cell_type": "code",
   "execution_count": null,
   "id": "aa7377cf",
   "metadata": {},
   "outputs": [],
   "source": [
    "#Step 2: Checking duplicates and null values\n",
    "duplicates = df.duplicated().sum()      # Check for duplicate rows  \n",
    "print(f\"Number of duplicate rows: {duplicates}\")\n",
    "null_counts = df.isnull().sum()     # Count null values in each column\n",
    "print(f\"Null values in each column:\\n{null_counts}\")"
   ]
  },
  {
   "cell_type": "markdown",
   "id": "66abd419",
   "metadata": {},
   "source": [
    "### **What did you know about your dataset?**"
   ]
  },
  {
   "cell_type": "markdown",
   "id": "67dca0e6",
   "metadata": {},
   "source": [
    "📊 Lets Explore What Did We Learn About the Dataset?\n",
    "\n",
    "The dataset contains historical stock prices of Yes Bank, with 185 rows and 5 columns.\n",
    "\n",
    "Each row represents stock data for a specific date, and the columns include:\n",
    "\n",
    "- **Date:** The date of the record (object type; can be converted to datetime)\n",
    "\n",
    "- **Open:** Stock price at market open\n",
    "\n",
    "- **High:** Highest price of the day\n",
    " \n",
    "- **Low:** Lowest price of the day\n",
    " \n",
    "- **Close:** Stock price at market close\n",
    "\n",
    "✅ All columns have complete data — no missing or null values were found.\n",
    "\n",
    "✅ There are no duplicate rows, indicating the dataset is clean.\n",
    "\n",
    "🧮 The numeric columns (Open, High, Low, Close) are of type float64, suitable for further statistical analysis and modeling."
   ]
  },
  {
   "cell_type": "markdown",
   "id": "5ce2b76f",
   "metadata": {},
   "source": [
    "****"
   ]
  },
  {
   "cell_type": "markdown",
   "id": "6f1195d0",
   "metadata": {},
   "source": [
    "## ***2. Understanding Your Variables***"
   ]
  },
  {
   "cell_type": "code",
   "execution_count": null,
   "id": "fe9242f4",
   "metadata": {},
   "outputs": [],
   "source": [
    "# Dataset Columns\n",
    "df.columns.tolist()"
   ]
  },
  {
   "cell_type": "code",
   "execution_count": null,
   "id": "bcc71774",
   "metadata": {},
   "outputs": [],
   "source": [
    "# Dataset Describe\n",
    "df.describe()"
   ]
  },
  {
   "cell_type": "markdown",
   "id": "34b4ae4d",
   "metadata": {},
   "source": [
    "### **Variables Description**"
   ]
  },
  {
   "cell_type": "markdown",
   "id": "e31781ed",
   "metadata": {},
   "source": [
    "Below is a brief description of each variable in the dataset:\n",
    "\n",
    "- **Date**: The trading date for each record. While it is not used directly in prediction models, it is important for time-based analysis, trend visualization, and for creating additional time-related features (e.g., day of the week, month).\n",
    "  \n",
    "- **Open**: The price at which Yes Bank's stock opened for trading on a given day.\n",
    "\n",
    "- **High**: The highest price reached by the stock during the trading day.\n",
    "\n",
    "- **Low**: The lowest price reached by the stock during the trading day.\n",
    "\n",
    "- **Close**: The final price of the stock at market close. This is often used as the **target variable** for stock price prediction tasks.\n",
    "\n",
    "> All price-related columns (`Open`, `High`, `Low`, `Close`) are continuous numerical variables and are essential for trend and pattern analysis.\n"
   ]
  },
  {
   "cell_type": "markdown",
   "id": "f8c61970",
   "metadata": {},
   "source": [
    "### **Check Unique Values for each variable.**"
   ]
  },
  {
   "cell_type": "code",
   "execution_count": null,
   "id": "47ea1d7a",
   "metadata": {},
   "outputs": [],
   "source": [
    "# Check Unique Values for each variable.\n",
    "df.nunique()"
   ]
  },
  {
   "cell_type": "markdown",
   "id": "7fcf7ea3",
   "metadata": {},
   "source": [
    "****"
   ]
  },
  {
   "cell_type": "markdown",
   "id": "38e2eb83",
   "metadata": {},
   "source": [
    "## ***3. Data Wrangling***"
   ]
  },
  {
   "cell_type": "markdown",
   "id": "4ce84536",
   "metadata": {},
   "source": [
    "### **Data Wrangling Code**"
   ]
  },
  {
   "cell_type": "code",
   "execution_count": null,
   "id": "54a587ea",
   "metadata": {},
   "outputs": [],
   "source": [
    "\n",
    "df['Date'] = pd.to_datetime(df['Date'], format='%b-%y')\n",
    "\n",
    "df = df.drop_duplicates()\n",
    "\n",
    "print(\"Missing values:\\n\", df.isna().sum())\n",
    "\n",
    "df['Month'] = df['Date'].dt.month\n",
    "df['Year'] = df['Date'].dt.year\n",
    "\n",
    "print(\"\\nData types after conversion:\\n\", df.dtypes)\n",
    "\n",
    "df = df.reset_index(drop=True)\n",
    "df.head()\n"
   ]
  },
  {
   "cell_type": "markdown",
   "id": "0378c848",
   "metadata": {},
   "source": [
    "### **Insights Gained and Manipulations Performed**"
   ]
  },
  {
   "cell_type": "markdown",
   "id": "3f399d66",
   "metadata": {},
   "source": [
    "#### ✅ Data Manipulations Performed:\n",
    "- Converted the **`Date`** column from a string like `'Jul-05'` to proper `datetime` format using `%b-%y`\n",
    "- Created new **`Month`** and **`Year`** columns from the `Date` column for better time-based analysis\n",
    "- Checked for and confirmed that there are **no missing values** or **null entries**\n",
    "- Removed any **duplicate rows** (none were found in this case)\n",
    "- Verified data types to ensure all price-related columns (`Open`, `High`, `Low`, `Close`) are in **float64** format\n",
    "- Reset the dataframe index after cleaning\n",
    "\n",
    "#### 📌 Key Insights Observed:\n",
    "- The dataset contains **monthly stock prices** for Yes Bank\n",
    "- Data ranges from **July 2005 onward**, with each row representing a **monthly summary**\n",
    "- All price features (`Open`, `High`, `Low`, `Close`) appear to be **continuous numerical variables**\n",
    "- No immediate data quality issues like missing or duplicated values were found\n",
    "\n",
    "This clean dataset is now ready for visualization (EDA) and modeling steps.\n"
   ]
  },
  {
   "cell_type": "markdown",
   "id": "7674b9a0",
   "metadata": {},
   "source": [
    "****"
   ]
  },
  {
   "cell_type": "markdown",
   "id": "8ca22b85",
   "metadata": {},
   "source": [
    "## ***4. Data Vizualization, Storytelling & Experimenting with charts : Understand the relationships between variables***"
   ]
  },
  {
   "cell_type": "markdown",
   "id": "24d3ba3a",
   "metadata": {},
   "source": [
    "## ***U — Univariate Analysis:--***"
   ]
  },
  {
   "cell_type": "markdown",
   "id": "5e022146",
   "metadata": {},
   "source": [
    "### *1. Histogram of Closing Prices*"
   ]
  },
  {
   "cell_type": "code",
   "execution_count": null,
   "id": "f8754941",
   "metadata": {},
   "outputs": [],
   "source": [
    "# Chart visualization code\n",
    "plt.figure(figsize=(8, 5))\n",
    "sns.histplot(df['Close'], bins=30, kde=True, color='skyblue')\n",
    "plt.title('Distribution of Closing Prices')\n",
    "plt.xlabel('Closing Price')\n",
    "plt.ylabel('Frequency')\n",
    "plt.grid(True)\n",
    "plt.show()\n"
   ]
  },
  {
   "cell_type": "markdown",
   "id": "375bbde5",
   "metadata": {},
   "source": [
    "Why this chart?\n",
    "To understand how the closing prices are distributed — skewed, normal, etc.\n",
    "\n",
    "Insights:\n",
    "If prices are clustered around a range or show outliers, we can identify volatility or stability.\n",
    "\n",
    "Business Impact:\n",
    "Understanding distribution helps in risk assessment. Skewed data may imply a need for transformation or highlight price manipulation.\n",
    "\n",
    "\n",
    "\n",
    "\n",
    "\n",
    "\n",
    "\n",
    "\n",
    "\n",
    "\n",
    "\n",
    "\n",
    "\n",
    "\n",
    "\n",
    "\n",
    "\n",
    "\n",
    "\n",
    "\n",
    "\n",
    "\n",
    "\n",
    "\n",
    "\n",
    "\n",
    "\n",
    "\n",
    "\n",
    "\n",
    "\n",
    "\n",
    "\n",
    "\n",
    "\n",
    "\n"
   ]
  },
  {
   "cell_type": "markdown",
   "id": "c7da4143",
   "metadata": {},
   "source": [
    "### *2. Line Plot of Closing Price Over Time*"
   ]
  },
  {
   "cell_type": "code",
   "execution_count": null,
   "id": "3c0ebe96",
   "metadata": {},
   "outputs": [],
   "source": [
    "# Chart visualization code\n",
    "df['Date'] = pd.to_datetime(df['Date'])\n",
    "df = df.sort_values('Date')\n",
    "\n",
    "plt.figure(figsize=(12, 6))\n",
    "plt.plot(df['Date'], df['Close'], label='Close Price', color='blue')\n",
    "plt.title('Closing Price Trend Over Time')\n",
    "plt.xlabel('Date')\n",
    "plt.ylabel('Closing Price')\n",
    "plt.grid(True)\n",
    "plt.legend()\n",
    "plt.show()\n"
   ]
  },
  {
   "cell_type": "markdown",
   "id": "515d076f",
   "metadata": {},
   "source": [
    "Why this chart?\n",
    "To observe trends, spikes, crashes, or steady movement in closing prices.\n",
    "\n",
    "Insights:\n",
    "Sharp drops or increases can indicate major events (like the Rana Kapoor fraud case).\n",
    "\n",
    "Business Impact:\n",
    "Helps correlate financial events with stock performance for strategic planning.\n",
    "\n"
   ]
  },
  {
   "cell_type": "markdown",
   "id": "6b0d6591",
   "metadata": {},
   "source": [
    "## ***B — Bivariate Analysis:--***"
   ]
  },
  {
   "cell_type": "markdown",
   "id": "3364741b",
   "metadata": {},
   "source": [
    "### *3. Scatter Plot: Opening Price vs Closing Price*"
   ]
  },
  {
   "cell_type": "code",
   "execution_count": null,
   "id": "6b6460c5",
   "metadata": {},
   "outputs": [],
   "source": [
    "# Chart visualization code\n",
    "plt.figure(figsize=(7, 5))\n",
    "sns.scatterplot(x='Open', y='Close', data=df, color='purple')\n",
    "plt.title('Opening Price vs Closing Price')\n",
    "plt.xlabel('Opening Price')\n",
    "plt.ylabel('Closing Price')\n",
    "plt.grid(True)\n",
    "plt.show()\n"
   ]
  },
  {
   "cell_type": "markdown",
   "id": "ed8ef2e8",
   "metadata": {},
   "source": [
    "Why this chart?\n",
    "To identify whether there's a linear or non-linear relationship between opening and closing prices.\n",
    "\n",
    "Insights:\n",
    "A strong linear pattern indicates the closing price can be predicted using the opening price.\n",
    "\n",
    "Business Impact:\n",
    "Useful in short-term trading strategies — if opening price reliably predicts closing price, it enables profitable same-day trading decisions."
   ]
  },
  {
   "cell_type": "markdown",
   "id": "2d1bdbe1",
   "metadata": {},
   "source": [
    "Why this chart?\n",
    "To study quarterly trends and distribution shapes (including multi-modal ones).\n",
    "\n",
    "Insights:\n",
    "Wider violins show more variability in specific quarters. Can indicate seasonal investment behavior.\n",
    "\n",
    "Business Impact:\n",
    "Guides quarterly investment planning. For instance, Q1/Q3 might be more volatile or rewarding."
   ]
  },
  {
   "cell_type": "markdown",
   "id": "4c083d0a",
   "metadata": {},
   "source": [
    "### *4. Bar Plot: Average High Prices by Year*"
   ]
  },
  {
   "cell_type": "code",
   "execution_count": null,
   "id": "e54af052",
   "metadata": {},
   "outputs": [],
   "source": [
    "# Chart visualization code\n",
    "avg_high_year = df.groupby('Year')['High'].mean().reset_index()\n",
    "\n",
    "plt.figure(figsize=(9, 5))\n",
    "sns.barplot(x='Year', y='High', data=avg_high_year, palette='YlGnBu')\n",
    "plt.title('Average High Prices by Year')\n",
    "plt.xlabel('Year')\n",
    "plt.ylabel('Average High Price')\n",
    "plt.grid(True)\n",
    "plt.show()\n"
   ]
  },
  {
   "cell_type": "markdown",
   "id": "d55c3dc1",
   "metadata": {},
   "source": [
    "Why this chart?\n",
    "Helps understand how stock peaks have evolved annually.\n",
    "\n",
    "Insights:\n",
    "Rising or falling high prices signal market perception of potential growth or decline.\n",
    "\n",
    "Business Impact:\n",
    "Identifies years of investor confidence or fear — useful for back-testing strategies or investor sentiment analysis."
   ]
  },
  {
   "cell_type": "markdown",
   "id": "37646fde",
   "metadata": {},
   "source": [
    "## ***M — Multivariate Analysis:--***"
   ]
  },
  {
   "cell_type": "markdown",
   "id": "d373544a",
   "metadata": {},
   "source": [
    "### *5. Multi-line Plot: Open, High, Low, Close Over Time*"
   ]
  },
  {
   "cell_type": "code",
   "execution_count": null,
   "id": "37af73ff",
   "metadata": {},
   "outputs": [],
   "source": [
    "# Chart visualization code\n",
    "plt.figure(figsize=(14, 6))\n",
    "plt.plot(df['Date'], df['Open'], label='Open', alpha=0.7)\n",
    "plt.plot(df['Date'], df['High'], label='High', alpha=0.7)\n",
    "plt.plot(df['Date'], df['Low'], label='Low', alpha=0.7)\n",
    "plt.plot(df['Date'], df['Close'], label='Close', alpha=0.7)\n",
    "plt.title('Time Series: Open, High, Low, Close Prices')\n",
    "plt.xlabel('Date')\n",
    "plt.ylabel('Price')\n",
    "plt.legend()\n",
    "plt.grid(True)\n",
    "plt.show()\n"
   ]
  },
  {
   "cell_type": "markdown",
   "id": "266ad788",
   "metadata": {},
   "source": [
    "Why this chart?\n",
    "Shows all major stock price points on a single timeline for full insight.\n",
    "\n",
    "Insights:\n",
    "You can identify volatility periods (wide gaps between high/low) and price crashes or booms.\n",
    "\n",
    "Business Impact:\n",
    "Helps in building time-aware models and understanding how each metric evolves over time."
   ]
  },
  {
   "cell_type": "markdown",
   "id": "4ad88638",
   "metadata": {},
   "source": [
    "****"
   ]
  },
  {
   "cell_type": "markdown",
   "id": "23680f55",
   "metadata": {},
   "source": [
    "## ***5. Hypothesis Testing***"
   ]
  },
  {
   "cell_type": "markdown",
   "id": "c4ac77ae",
   "metadata": {},
   "source": []
  },
  {
   "cell_type": "markdown",
   "id": "2eae2657",
   "metadata": {},
   "source": [
    "****"
   ]
  },
  {
   "cell_type": "markdown",
   "id": "8a39a527",
   "metadata": {},
   "source": [
    "## ***6. Feature Engineering & Data Pre-processing***"
   ]
  },
  {
   "cell_type": "markdown",
   "id": "954225c7",
   "metadata": {},
   "source": [
    "### **1. Handling Missing Values**"
   ]
  },
  {
   "cell_type": "code",
   "execution_count": null,
   "id": "09a16639",
   "metadata": {},
   "outputs": [],
   "source": [
    "print(df.isnull().sum())            # Count total missing values in each column\n",
    "\n",
    "print(\"\\nAfter filling:\\n\", df.fillna(0))            # Replaces all NaN with 0\n",
    "\n",
    "print(\"\\nDropping rows with NaN:\\n\", df.dropna())  # Drops all rows with NaN values\n"
   ]
  },
  {
   "cell_type": "markdown",
   "id": "12bda92c",
   "metadata": {},
   "source": [
    "**Detects missing data in each column.**\n",
    "\n",
    "**Helps you understand how much data is missing before deciding what to do.**\n",
    "\n",
    "**Prevents errors during model training, as most ML models can't handle NaN.**"
   ]
  },
  {
   "cell_type": "markdown",
   "id": "1f96fab5",
   "metadata": {},
   "source": [
    "### **2. Handling Outliers**"
   ]
  },
  {
   "cell_type": "code",
   "execution_count": null,
   "id": "8dd643c9",
   "metadata": {},
   "outputs": [],
   "source": [
    "\n",
    "num_cols = ['Open', 'High', 'Low', 'Close']\n",
    "original_data=df.copy()\n",
    "for col in num_cols:\n",
    "    Q1 = df[col].quantile(0.25)\n",
    "    Q3 = df[col].quantile(0.75)\n",
    "    IQR = Q3 - Q1\n",
    "    lower_bound = Q1 - 1.5 * IQR\n",
    "    upper_bound = Q3 + 1.5 * IQR\n",
    "\n",
    "    outliers = df[(df[col] < lower_bound) | (df[col] > upper_bound)]\n",
    "    print(f\"🔎 {col}: {outliers.shape[0]} outliers detected\")\n",
    "    df= df[(df[col] >= lower_bound) & (df[col] <= upper_bound)]\n",
    "df.reset_index(drop=True, inplace=True)\n",
    "print(\"All Outliers removed\")"
   ]
  },
  {
   "cell_type": "markdown",
   "id": "2f193aa5",
   "metadata": {},
   "source": [
    "### **3. Feature Seletion**"
   ]
  },
  {
   "cell_type": "code",
   "execution_count": null,
   "id": "a5e9de46",
   "metadata": {},
   "outputs": [],
   "source": [
    "X = df[['Open', 'High', 'Low']]   # Independent variables\n",
    "y = df['Close']                   # Dependent variable"
   ]
  },
  {
   "cell_type": "markdown",
   "id": "adb94686",
   "metadata": {},
   "source": [
    "### **4. Data Splitting**\n",
    "\n",
    "#### What data splitting ratio have you used and why? (Answer)"
   ]
  },
  {
   "cell_type": "code",
   "execution_count": null,
   "id": "3d13c856",
   "metadata": {},
   "outputs": [],
   "source": [
    "# Step 4: Train-Test Split\n",
    "X_train, X_test, y_train, y_test = tts(X, y, test_size=0.2, random_state=5)"
   ]
  },
  {
   "cell_type": "markdown",
   "id": "fc1b529d",
   "metadata": {},
   "source": [
    "****"
   ]
  },
  {
   "cell_type": "markdown",
   "id": "7ad8bfac",
   "metadata": {},
   "source": [
    "## ***7. ML Model Implementation***"
   ]
  },
  {
   "cell_type": "markdown",
   "id": "a58e9287",
   "metadata": {},
   "source": [
    "### ***ML Model 1- Linear Regression***"
   ]
  },
  {
   "cell_type": "code",
   "execution_count": null,
   "id": "ada3a888",
   "metadata": {},
   "outputs": [],
   "source": [
    "# ML Model - 1 Implementation\n",
    "model = LinearRegression()          # Create a Linear Regression model object\n",
    "\n",
    "# Fit the Algorithm\n",
    "model.fit(X_train, y_train)          # Fit the model to the training data\n",
    "\n",
    "# Predict on the model\n",
    "y_pred = model.predict(X_test)           # Predict the target variable for the test set"
   ]
  },
  {
   "cell_type": "markdown",
   "id": "151f463f",
   "metadata": {},
   "source": [
    "#### 1. Explain the ML Model used and it's performance using Evaluation metric Score Chart."
   ]
  },
  {
   "cell_type": "code",
   "execution_count": null,
   "id": "98de0cd4",
   "metadata": {},
   "outputs": [],
   "source": [
    "# Visualizing evaluation Metric Score chart\n",
    "plt.figure(figsize=(8, 6))\n",
    "sns.regplot(x=y_test, y=y_pred, ci=None, line_kws={'color': 'red'})\n",
    "\n",
    "plt.xlabel(\"Actual Close Price\")\n",
    "plt.ylabel(\"Predicted Close Price\")\n",
    "plt.title(\"Linear Regression: Actual vs Predicted Close Price\")\n",
    "plt.grid(True)\n",
    "plt.tight_layout()\n",
    "plt.show()"
   ]
  },
  {
   "cell_type": "markdown",
   "id": "d2be73ec",
   "metadata": {},
   "source": [
    "#### 2. Cross- Validation & Hyperparameter Tuning"
   ]
  },
  {
   "cell_type": "code",
   "execution_count": null,
   "id": "102adb91",
   "metadata": {},
   "outputs": [],
   "source": [
    "# Cross- Validation Score\n",
    "print(\"Mean Absolute Error (Linear Regression):\", mae(y_test, y_pred))\n",
    "print(\"Mean Squared Error (Linear Regression):\", mse(y_test, y_pred))\n",
    "print(\"R-squared Score (Linear Regression):\", r2(y_test, y_pred))"
   ]
  },
  {
   "cell_type": "markdown",
   "id": "53554de9",
   "metadata": {},
   "source": [
    "****"
   ]
  },
  {
   "cell_type": "markdown",
   "id": "1e1c5a29",
   "metadata": {},
   "source": [
    "### **ML Model 2- Lasso Regression**"
   ]
  },
  {
   "cell_type": "code",
   "execution_count": null,
   "id": "f8cb8ad0",
   "metadata": {},
   "outputs": [],
   "source": [
    "# ML Model - 2 Implementation\n",
    "lasso = Lasso(alpha=0.1)          # Create a Lasso Regression model object.\n",
    "\n",
    "# Fit the Algorithm\n",
    "lasso.fit(X_train, y_train)          # Fit the model to the training data\n",
    "\n",
    "# Predict on the model\n",
    "y_pred = lasso.predict(X_test)           #Predict the target variable for the test set"
   ]
  },
  {
   "cell_type": "markdown",
   "id": "d573e79d",
   "metadata": {},
   "source": [
    "#### 1. Explain the ML Model used and it's performance using Evaluation metric Score Chart."
   ]
  },
  {
   "cell_type": "code",
   "execution_count": null,
   "id": "68a89847",
   "metadata": {},
   "outputs": [],
   "source": [
    "# Visualizing evaluation Metric Score chart\n",
    "plt.figure(figsize=(8, 5))\n",
    "sns.regplot(x=y_test, y=y_pred, ci=None, line_kws={\"color\": \"red\"})\n",
    "plt.xlabel(\"Actual Close Price\")\n",
    "plt.ylabel(\"Predicted Close Price\")\n",
    "plt.title(\"Lasso Regression: Actual vs Predicted\")\n",
    "plt.grid(True)\n",
    "plt.show()"
   ]
  },
  {
   "cell_type": "markdown",
   "id": "73f171cf",
   "metadata": {},
   "source": [
    "#### 2. Cross- Validation & Hyperparameter Tuning"
   ]
  },
  {
   "cell_type": "code",
   "execution_count": null,
   "id": "8164f7a4",
   "metadata": {},
   "outputs": [],
   "source": [
    "# Cross- Validation Score\n",
    "print(\"Mean Absolute Error (Linear Regression):\", mae(y_test, y_pred))\n",
    "print(\"Mean Squared Error (Linear Regression):\", mse(y_test, y_pred))\n",
    "print(\"R-squared Score (Linear Regression):\", r2(y_test, y_pred))"
   ]
  },
  {
   "cell_type": "markdown",
   "id": "75cc0950",
   "metadata": {},
   "source": [
    "****"
   ]
  },
  {
   "cell_type": "markdown",
   "id": "269d486e",
   "metadata": {},
   "source": [
    "### **ML Model 3- KNN Regression**"
   ]
  },
  {
   "cell_type": "code",
   "execution_count": null,
   "id": "cc6f1f65",
   "metadata": {},
   "outputs": [],
   "source": [
    "# ML Model - 3 Implementation\n",
    "knn_model = KNeighborsRegressor(n_neighbors=4)          # Create a KNN Regressor model object.\n",
    "\n",
    "# Fit the Algorithm\n",
    "knn_model.fit(X_train, y_train)          # Fit the model to the training data\n",
    "\n",
    "# Predict on the model\n",
    "y_pred = knn_model.predict(X_test)           # Predict the target variable for the test set"
   ]
  },
  {
   "cell_type": "markdown",
   "id": "4df591c7",
   "metadata": {},
   "source": [
    "#### 1. Explain the ML Model used and it's performance using Evaluation metric Score Chart."
   ]
  },
  {
   "cell_type": "code",
   "execution_count": null,
   "id": "54f08bf1",
   "metadata": {},
   "outputs": [],
   "source": [
    "# Visualizing evaluation Metric Score chart\n",
    "plt.figure(figsize=(8, 6))\n",
    "sns.regplot(x=y_test, y=y_pred, ci=None, scatter_kws={'alpha':0.6}, line_kws={'color': 'red'})\n",
    "plt.xlabel(\"Actual Close Price\")\n",
    "plt.ylabel(\"Predicted Close Price\")\n",
    "plt.title(\"KNN Regression: Actual vs Predicted Close Price\")\n",
    "plt.grid(True)\n",
    "plt.tight_layout()\n",
    "plt.show()"
   ]
  },
  {
   "cell_type": "markdown",
   "id": "cd2315d7",
   "metadata": {},
   "source": [
    "#### 2. Cross- Validation & Hyperparameter Tuning"
   ]
  },
  {
   "cell_type": "code",
   "execution_count": null,
   "id": "8dad1d33",
   "metadata": {},
   "outputs": [],
   "source": [
    "# Cross- Validation Score\n",
    "print(\"Mean Absolute Error (Linear Regression):\", mae(y_test, y_pred))\n",
    "print(\"Mean Squared Error (Linear Regression):\", mse(y_test, y_pred))\n",
    "print(\"R-squared Score (Linear Regression):\", r2(y_test, y_pred))"
   ]
  },
  {
   "cell_type": "markdown",
   "id": "69d9a82a",
   "metadata": {},
   "source": [
    "****"
   ]
  },
  {
   "cell_type": "markdown",
   "id": "f9dfedcc",
   "metadata": {},
   "source": [
    "### 1. Which Evaluation metrics did you consider for a positive business impact and why?"
   ]
  },
  {
   "cell_type": "markdown",
   "id": "b652d1ec",
   "metadata": {},
   "source": [
    "        *To ensure accurate and business-relevant predictions of Yes Bank’s monthly stock closing prices, I used the following evaluation metrics:\n",
    "                1. Mean Absolute Error\n",
    "                2. Mean Squared Error\n",
    "                3. R² Score\n",
    "        *These combined metrics provide a balanced evaluation — understanding average errors, large risks, and overall model performance, which is critical in stock \n",
    "         price prediction."
   ]
  },
  {
   "cell_type": "markdown",
   "id": "a98720cc",
   "metadata": {},
   "source": [
    "### 2. Which ML model did you choose from the above created models as your final prediction model and why?"
   ]
  },
  {
   "cell_type": "markdown",
   "id": "46516a92",
   "metadata": {},
   "source": [
    "        *I chose Linear Regression because of regions:\n",
    "                1. Best Performance on Evaluation Metrics\n",
    "                2. Accurate Predictions\n",
    "                3. Model Simplicity & Interpretability\n",
    "                4. No Overfitting Detected\n",
    "        *Due to its strong performance on error metrics, reliable predictions, and simplicity, Linear Regression was chosen as the final model for predicting Yes \n",
    "         Bank’s monthly stock closing prices. It ensures both accuracy and transparency, which is critical for financial forecasting and decision-making."
   ]
  },
  {
   "cell_type": "markdown",
   "id": "dba6d85f",
   "metadata": {},
   "source": [
    "### 3. Explain the model which you have used and the feature importance using any model explainability tool?"
   ]
  },
  {
   "cell_type": "markdown",
   "id": "58260bb2",
   "metadata": {},
   "source": [
    "            ->Model Used: Linear Regression\n",
    "            *Linear Regression is a supervised learning algorithm used to predict a continuous target variable based on one or more input features.\n",
    "            *In this project, it was used to predict the monthly closing price of Yes Bank’s stock using features like:\n",
    "                    1. Open price\n",
    "                    2. High price\n",
    "                    3. Low Price\n",
    "            ->How It Works:\n",
    "            *Linear Regression fits a straight line (y = mx + c) that best represents the relationship between the features (X) and the target (y)."
   ]
  },
  {
   "cell_type": "markdown",
   "id": "3c99e719",
   "metadata": {},
   "source": [
    "****"
   ]
  },
  {
   "cell_type": "markdown",
   "id": "568ad14d",
   "metadata": {},
   "source": [
    "### ***My model is successfully created and ready for deployment on a live server for a real user interaction !!!***"
   ]
  },
  {
   "cell_type": "markdown",
   "id": "381aab42",
   "metadata": {},
   "source": [
    "# ***<u>Conclusion</u>***"
   ]
  },
  {
   "cell_type": "markdown",
   "id": "ed209f11",
   "metadata": {},
   "source": [
    "*-> In this project, we successfully built a regression model to predict the monthly closing stock prices of Yes Bank using historical stock price data. The dataset included essential features such as opening, highest, lowest, and closing prices, which were used to train the model.*"
   ]
  },
  {
   "cell_type": "markdown",
   "id": "6bc1a090",
   "metadata": {},
   "source": [
    "## **Steps:-**\n",
    "\n",
    "### 📊 **1. Dataset Loading**\n",
    "\n",
    "The stock price dataset was loaded, containing columns like **opening, closing, high, and low prices** for each month.\n",
    "\n",
    "### 🔍 **2. Data Cleaning**\n",
    "\n",
    "We performed:\n",
    "\n",
    "* **Null value checking and handling** (e.g., `fillna()` or `dropna()`)\n",
    "* **Duplicate value detection and removal**\n",
    "\n",
    "### 🔧 **3. Data Wrangling**\n",
    "\n",
    "Converted data types (like converting date strings to `datetime`), ensured consistency in column formats, and prepared the dataset for visualization and modeling.\n",
    "\n",
    "### 📈 **4. Data Visualization**\n",
    "\n",
    "Created charts to understand patterns:\n",
    "\n",
    "* Line plots of stock trends\n",
    "* Correlation heatmaps\n",
    "* Boxplots to detect outliers\n",
    "\n",
    "### 🧠 **5. Feature Selection**\n",
    "\n",
    "Selected important columns/features for the model — such as `Open`, `High`, `Low`, etc. — after visual and statistical analysis.\n",
    "\n",
    "### 🔀 **6. Data Splitting**\n",
    "\n",
    "Split the dataset into **training and testing sets** using an 70-30 ratio for unbiased model evaluation.\n",
    "\n",
    "### 🤖 **7. ML Modeling & Prediction**\n",
    "\n",
    "* **ML Model Implementation**\n",
    "* **Fit the Algorithm**\n",
    "* **Predict on the model**\n",
    "\n",
    "The models were evaluated using:\n",
    "\n",
    "* **Mean Squared Error (MSE)**\n",
    "* **Root Mean Squared Error (RMSE)**\n",
    "* **R² score**\n",
    "\n",
    "The best model was then used to predict the stock’s closing price with good accuracy.\n",
    "\n",
    "### 📊 **8. Final Visualization**\n",
    "\n",
    "Plotted predicted vs. actual closing prices to visually interpret model performance and confirm the validity of predictions."
   ]
  },
  {
   "cell_type": "markdown",
   "id": "c7808377",
   "metadata": {},
   "source": [
    "****"
   ]
  },
  {
   "cell_type": "markdown",
   "id": "4401e513",
   "metadata": {},
   "source": [
    "#### **🔍 Final Results:**\n",
    "*The best-performing model achieved an R² score of 0.61(Liner), 0.55(Lasso) and 0.16(KNN) on the test set, indicating a good fit and predictive power.*\n",
    "\n",
    "*Predicted stock closing prices closely followed the actual values in most months, with minimal error in volatile periods.*"
   ]
  },
  {
   "cell_type": "markdown",
   "id": "9d071534",
   "metadata": {},
   "source": [
    "****"
   ]
  }
 ],
 "metadata": {
  "kernelspec": {
   "display_name": "Python 3",
   "language": "python",
   "name": "python3"
  },
  "language_info": {
   "codemirror_mode": {
    "name": "ipython",
    "version": 3
   },
   "file_extension": ".py",
   "mimetype": "text/x-python",
   "name": "python",
   "nbconvert_exporter": "python",
   "pygments_lexer": "ipython3",
   "version": "3.11.5"
  }
 },
 "nbformat": 4,
 "nbformat_minor": 5
}
